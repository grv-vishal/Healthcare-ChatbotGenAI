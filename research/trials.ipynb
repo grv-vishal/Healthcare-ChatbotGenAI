{
 "cells": [],
 "metadata": {
  "kernelspec": {
   "display_name": "Python (healthbot)",
   "language": "python",
   "name": "healthbot"
  },
  "language_info": {
   "name": "python",
   "version": "3.10.18"
  }
 },
 "nbformat": 4,
 "nbformat_minor": 5
}
